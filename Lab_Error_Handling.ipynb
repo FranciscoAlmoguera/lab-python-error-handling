{
  "nbformat": 4,
  "nbformat_minor": 0,
  "metadata": {
    "colab": {
      "provenance": []
    },
    "kernelspec": {
      "name": "python3",
      "display_name": "Python 3"
    },
    "language_info": {
      "name": "python"
    }
  },
  "cells": [
    {
      "cell_type": "code",
      "execution_count": 4,
      "metadata": {
        "colab": {
          "base_uri": "https://localhost:8080/",
          "height": 106
        },
        "id": "DLF_dW9ZtEsA",
        "outputId": "7d8b29d1-b2bf-4627-d4d6-e638832cb835"
      },
      "outputs": [
        {
          "output_type": "error",
          "ename": "SyntaxError",
          "evalue": "incomplete input (<ipython-input-4-ca2ac2841202>, line 53)",
          "traceback": [
            "\u001b[0;36m  File \u001b[0;32m\"<ipython-input-4-ca2ac2841202>\"\u001b[0;36m, line \u001b[0;32m53\u001b[0m\n\u001b[0;31m    \u001b[0m\n\u001b[0m    ^\u001b[0m\n\u001b[0;31mSyntaxError\u001b[0m\u001b[0;31m:\u001b[0m incomplete input\n"
          ]
        }
      ],
      "source": [
        "# Step 1: Define the function for initializing the inventory with error handling\n",
        "def initialize_inventory(products):\n",
        "    inventory = {}\n",
        "    for product in products:\n",
        "        while True:\n",
        "            try:\n",
        "                quantity = int(input(f\"Enter the quantity of {product}s available: \"))\n",
        "                if quantity < 0:\n",
        "                    raise ValueError(\"Quantity cannot be negative.\")\n",
        "                inventory[product] = quantity\n",
        "                break\n",
        "            except ValueError as error:\n",
        "                print(f\"Error: {error}. Please enter a valid non-negative integer.\")\n",
        "    return inventory\n",
        "\n",
        "# Step 2: Gather customer orders with error handling\n",
        "def get_customer_orders(inventory):\n",
        "    while True:\n",
        "        try:\n",
        "            num_orders = int(input(\"Enter the number of customer orders: \"))\n",
        "            if num_orders < 0:\n",
        "                raise ValueError(\"Number of orders cannot be negative.\")\n",
        "            break\n",
        "        except ValueError as error:\n",
        "            print(f\"Error: {error}. Please enter a valid non-negative integer.\")\n",
        "\n",
        "    customer_orders = []\n",
        "    for _ in range(num_orders):\n",
        "        while True:\n",
        "            product_name = input(\"Enter the name of a product that a customer wants to order: \").strip().lower()\n",
        "            if product_name in inventory and inventory[product_name] > 0:\n",
        "                customer_orders.append(product_name)\n",
        "                break\n",
        "            else:\n",
        "                print(f\"Error: '{product_name}' is either not available in inventory or out of stock. Please enter a valid product name.\")\n",
        "    return customer_orders\n",
        "\n",
        "# Step 3: Calculate the total price with error handling\n",
        "def calculate_total_price(customer_orders):\n",
        "    prices = {}\n",
        "    for product in customer_orders:\n",
        "        while True:\n",
        "            try:\n",
        "                price = float(input(f\"Enter the price of {product}: \"))\n",
        "                if price < 0:\n",
        "                    raise ValueError(\"Price cannot be negative.\")\n",
        "                prices[product] = price\n",
        "                break\n",
        "            except ValueError as error:\n",
        "                print(f\"Error: {error}. Please enter a valid non-negative price.\")\n",
        "\n",
        "    total_price = sum(prices[product] for\n",
        "\n"
      ]
    }
  ]
}